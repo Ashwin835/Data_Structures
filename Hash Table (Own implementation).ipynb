{
 "cells": [
  {
   "cell_type": "code",
   "execution_count": 120,
   "id": "2e7a31f6",
   "metadata": {},
   "outputs": [],
   "source": [
    "class HashTable:\n",
    "    def __init__(self):\n",
    "        self.__memorysize=10\n",
    "        self.__currentcapacity=0\n",
    "        self.__keys=[None]*10\n",
    "        self.__values=[None]*10\n",
    "        \n",
    "    def hashcode(self,key):\n",
    "        code=0\n",
    "        for c in key:\n",
    "            code+=ord(c)\n",
    "        index=code%self.__memorysize\n",
    "        return index\n",
    "    \n",
    "    def insert(self,key,value):\n",
    "        index=self.hashcode(key)\n",
    "        if self.__memorysize==self.__currentcapacity:\n",
    "            return (\"The array is full\")\n",
    "        #This is when you should rehash the hash table\n",
    "        \n",
    "        \n",
    "        while self.__keys[index] is not None:\n",
    "            if self.__keys[index]==key:\n",
    "                self.__values[index]=value\n",
    "                return\n",
    "            index=(index+1)%self.__memorysize\n",
    "        self.__currentcapacity+=1\n",
    "        self.__keys[index]=key\n",
    "        self.__values[index]=value\n",
    "        print (\"insert successful\")\n",
    "        return\n",
    "    \n",
    "    def __str__(self):\n",
    "        uri=\"\"\n",
    "        for item in self.__keys:\n",
    "            uri+= f\"{item}:{self.__values[self.__keys.index(item)]}\\n\" \n",
    "        return uri\n",
    "        \n",
    "    def get(self,key):\n",
    "        end=False\n",
    "        iterations=0\n",
    "        index=self.hashcode(key)\n",
    "        while (not end):\n",
    "            if self.__keys[index] == key:\n",
    "                return self.__values[index]\n",
    "            elif self.__keys[index] is None or iterations==self.__memorysize:\n",
    "                print(\"The following key does not exist\")\n",
    "                end=True\n",
    "            else:\n",
    "                index=(index+1)%self.__memorysize\n",
    "                iterations+=1\n",
    "            \n",
    "            \n",
    "    def remove(self,key):\n",
    "        end=False\n",
    "        iterations=0\n",
    "        index=self.hashcode(key)\n",
    "        while(not end):\n",
    "            if self.__keys[index]==key:\n",
    "                self.__keys[index]=None\n",
    "                self.__values[index]=None\n",
    "                self.__currentcapacity-=1\n",
    "                return\n",
    "            elif self.__keys[index]==None  or iterations==self.__memorysize:\n",
    "                print(\"The key does not exist\")\n",
    "                end=True\n",
    "            else:\n",
    "                iterations+=1\n",
    "                index=(index+1)%self.__memorysize\n",
    "        \n",
    "        \n",
    "        \n",
    "        \n",
    "            \n",
    "            \n",
    "        \n",
    "        \n",
    "        \n",
    "    "
   ]
  },
  {
   "cell_type": "code",
   "execution_count": 121,
   "id": "699cdd94",
   "metadata": {},
   "outputs": [],
   "source": [
    "tester=HashTable()"
   ]
  },
  {
   "cell_type": "code",
   "execution_count": 122,
   "id": "d7dd8c63",
   "metadata": {},
   "outputs": [
    {
     "name": "stdout",
     "output_type": "stream",
     "text": [
      "insert successful\n",
      "insert successful\n"
     ]
    }
   ],
   "source": [
    "tester.insert(\"why\",2)\n",
    "tester.insert(\"dehli\",4)\n",
    "tester.insert(\"why\",5)"
   ]
  },
  {
   "cell_type": "code",
   "execution_count": 123,
   "id": "a0165042",
   "metadata": {},
   "outputs": [
    {
     "name": "stdout",
     "output_type": "stream",
     "text": [
      "None:None\n",
      "None:None\n",
      "None:None\n",
      "None:None\n",
      "why:5\n",
      "None:None\n",
      "None:None\n",
      "None:None\n",
      "dehli:4\n",
      "None:None\n",
      "\n"
     ]
    }
   ],
   "source": [
    "print(tester)"
   ]
  },
  {
   "cell_type": "code",
   "execution_count": 124,
   "id": "f03a2a06",
   "metadata": {},
   "outputs": [
    {
     "name": "stdout",
     "output_type": "stream",
     "text": [
      "The key does not exist\n"
     ]
    }
   ],
   "source": [
    "tester.remove(\"whhy\")"
   ]
  },
  {
   "cell_type": "code",
   "execution_count": 125,
   "id": "d6e1b1d6",
   "metadata": {},
   "outputs": [],
   "source": [
    "tester.remove(\"why\")"
   ]
  },
  {
   "cell_type": "code",
   "execution_count": 126,
   "id": "0a923e35",
   "metadata": {},
   "outputs": [
    {
     "data": {
      "text/plain": [
       "<__main__.HashTable at 0x1e3c9a57d60>"
      ]
     },
     "execution_count": 126,
     "metadata": {},
     "output_type": "execute_result"
    }
   ],
   "source": [
    "tester"
   ]
  },
  {
   "cell_type": "code",
   "execution_count": 127,
   "id": "9a5b500f",
   "metadata": {},
   "outputs": [
    {
     "name": "stdout",
     "output_type": "stream",
     "text": [
      "None:None\n",
      "None:None\n",
      "None:None\n",
      "None:None\n",
      "None:None\n",
      "None:None\n",
      "None:None\n",
      "None:None\n",
      "dehli:4\n",
      "None:None\n",
      "\n"
     ]
    }
   ],
   "source": [
    "print(tester)"
   ]
  },
  {
   "cell_type": "code",
   "execution_count": null,
   "id": "7c69a04f",
   "metadata": {},
   "outputs": [],
   "source": []
  }
 ],
 "metadata": {
  "kernelspec": {
   "display_name": "Python 3 (ipykernel)",
   "language": "python",
   "name": "python3"
  },
  "language_info": {
   "codemirror_mode": {
    "name": "ipython",
    "version": 3
   },
   "file_extension": ".py",
   "mimetype": "text/x-python",
   "name": "python",
   "nbconvert_exporter": "python",
   "pygments_lexer": "ipython3",
   "version": "3.9.18"
  }
 },
 "nbformat": 4,
 "nbformat_minor": 5
}
